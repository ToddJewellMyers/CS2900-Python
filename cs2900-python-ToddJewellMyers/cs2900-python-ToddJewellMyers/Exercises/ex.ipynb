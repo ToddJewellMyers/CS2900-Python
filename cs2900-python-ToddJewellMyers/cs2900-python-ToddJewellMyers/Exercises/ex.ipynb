{
 "metadata": {
  "language_info": {
   "codemirror_mode": {
    "name": "ipython",
    "version": 3
   },
   "file_extension": ".py",
   "mimetype": "text/x-python",
   "name": "python",
   "nbconvert_exporter": "python",
   "pygments_lexer": "ipython3",
   "version": "3.8.5"
  },
  "orig_nbformat": 2,
  "kernelspec": {
   "name": "python385jvsc74a57bd0b3ba2566441a7c06988d0923437866b63cedc61552a5af99d1f4fb67d367b25f",
   "display_name": "Python 3.8.5 64-bit ('ProgramData': virtualenv)"
  }
 },
 "nbformat": 4,
 "nbformat_minor": 2,
 "cells": [
  {
   "cell_type": "code",
   "execution_count": null,
   "metadata": {},
   "outputs": [],
   "source": [
    "import random \n",
    "x = random.randint(5, 50)\n",
    "random_list = [x]\n",
    "sum_list = sum(random_list)\n",
    "len_list = len(random_list)\n",
    "avg_num = sum_list / len_list\n",
    "print(f\"The average of the list is:  {avg_num}\")"
   ]
  },
  {
   "cell_type": "code",
   "execution_count": 9,
   "metadata": {},
   "outputs": [
    {
     "output_type": "stream",
     "name": "stdout",
     "text": [
      "Known IP Addresses Updated: \n12.45.23.1\n89.34.23.67\n67.45.23.43\n90.32.65.98\n45.23.98.12\n89.23.21.9\n67.45.23.43\n"
     ]
    }
   ],
   "source": [
    "known_ips = ['12.45.23.1', '89.34.23.67', '67.45.23.43', '90.32.65.98']\n",
    "new_ips = ['45.23.98.12', '89.23.21.9', '67.45.23.43', '1.1.1.1']\n",
    "\n",
    "for item in new_ips:\n",
    "    if item != '1.1.1.1':\n",
    "        known_ips.append(item)\n",
    "    else:\n",
    "        print(\"Known IP Addresses Updated: \")\n",
    "\n",
    "for item in known_ips:\n",
    "    print(item)\n",
    "\n",
    "\n"
   ]
  },
  {
   "cell_type": "code",
   "execution_count": 6,
   "metadata": {},
   "outputs": [
    {
     "output_type": "stream",
     "name": "stdout",
     "text": [
      "buzz buzz\nbuzz buzz\nbuzz buzz\n"
     ]
    }
   ],
   "source": [
    "camelcase = ['bees', 'BEES', 'BeEs', 'Bees', 'BeeS']\n",
    "\n",
    "for bee in camelcase:\n",
    "    if bee != bee.lower() and bee != bee.upper():\n",
    "        print('buzz buzz')\n",
    "\n"
   ]
  },
  {
   "cell_type": "code",
   "execution_count": null,
   "metadata": {},
   "outputs": [],
   "source": []
  }
 ]
}