{
 "metadata": {
  "language_info": {
   "codemirror_mode": {
    "name": "ipython",
    "version": 3
   },
   "file_extension": ".py",
   "mimetype": "text/x-python",
   "name": "python",
   "nbconvert_exporter": "python",
   "pygments_lexer": "ipython3",
   "version": "3.8.3"
  },
  "orig_nbformat": 2,
  "kernelspec": {
   "name": "python383jvsc74a57bd02db524e06e9f5f4ffedc911c917cb75e12dbc923643829bf417064a77eb14d37",
   "display_name": "Python 3.8.3 64-bit"
  },
  "metadata": {
   "interpreter": {
    "hash": "2db524e06e9f5f4ffedc911c917cb75e12dbc923643829bf417064a77eb14d37"
   }
  }
 },
 "nbformat": 4,
 "nbformat_minor": 2,
 "cells": [
  {
   "cell_type": "code",
   "execution_count": 1,
   "metadata": {},
   "outputs": [
    {
     "output_type": "stream",
     "name": "stdout",
     "text": [
      "The average of the list is: 19.4 \n"
     ]
    }
   ],
   "source": [
    "import random \n",
    "x = round(random.uniform(5, 50),1)\n",
    "random_list = [x]\n",
    "sum_list = sum(random_list)\n",
    "len_list = len(random_list)\n",
    "avg_num = sum_list / len_list\n",
    "print(f\"The average of the list is: {avg_num} \")\n"
   ]
  },
  {
   "cell_type": "code",
   "execution_count": 2,
   "metadata": {},
   "outputs": [
    {
     "output_type": "error",
     "ename": "IndentationError",
     "evalue": "unindent does not match any outer indentation level (<tokenize>, line 10)",
     "traceback": [
      "\u001b[1;36m  File \u001b[1;32m\"<tokenize>\"\u001b[1;36m, line \u001b[1;32m10\u001b[0m\n\u001b[1;33m    else:\u001b[0m\n\u001b[1;37m    ^\u001b[0m\n\u001b[1;31mIndentationError\u001b[0m\u001b[1;31m:\u001b[0m unindent does not match any outer indentation level\n"
     ]
    }
   ],
   "source": [
    "known_ips = ['12.45.23.1', '89.34.23.67', '67.45.23.43', '90.32.65.98']\n",
    "new_ips = ['45.23.98.12', '89.23.21.9', '67.45.23.43', '1.1.1.1']\n",
    "\n",
    "\n",
    "for item in new_ips:\n",
    " if item not in known_ips:\n",
    "     if item != '1.1.1.1':\n",
    "       known_ips.append(item)\n",
    "\n",
    " else:\n",
    "   print(\"Known IP Addresses Updated:\")\n",
    "\n",
    "for item in known_ips:\n",
    "   print (item)"
   ]
  },
  {
   "cell_type": "code",
   "execution_count": 54,
   "metadata": {},
   "outputs": [
    {
     "output_type": "stream",
     "name": "stdout",
     "text": [
      "buzz buzz\nbuzz buzz\nbuzz buzz\n"
     ]
    }
   ],
   "source": [
    "camelcase = ['bees', 'BEES', 'BeEs', 'Bees', 'BeeS']\n",
    "\n",
    "for bee in camelcase:\n",
    "    if bee != bee.lower() and bee != bee.upper():\n",
    "        print('buzz buzz')"
   ]
  }
 ]
}