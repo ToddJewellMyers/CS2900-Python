{
 "metadata": {
  "language_info": {
   "codemirror_mode": {
    "name": "ipython",
    "version": 3
   },
   "file_extension": ".py",
   "mimetype": "text/x-python",
   "name": "python",
   "nbconvert_exporter": "python",
   "pygments_lexer": "ipython3",
   "version": 3
  },
  "orig_nbformat": 2
 },
 "nbformat": 4,
 "nbformat_minor": 2,
 "cells": [
  {
   "cell_type": "code",
   "execution_count": null,
   "metadata": {},
   "outputs": [],
   "source": [
    "# program a simple calculator \n",
    "\n",
    "num1 = 10\n",
    "num2 = 15\n",
    "\n",
    "print(f\"adding number {num1 + num2} \")\n",
    "\n",
    "subtract = 10 - 15\n",
    "print (f\" The two numbers subtracted are: {subtracted}\")\n",
    "\n",
    "multiply = 10 * 15\n",
    "print(f\" Two numbers multiplied: {multiply} \")\n"
   ]
  }
 ]
}