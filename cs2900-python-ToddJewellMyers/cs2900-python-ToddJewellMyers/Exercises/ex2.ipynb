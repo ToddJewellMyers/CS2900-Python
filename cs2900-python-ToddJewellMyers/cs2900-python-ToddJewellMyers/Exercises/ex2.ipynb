{
 "metadata": {
  "language_info": {
   "codemirror_mode": {
    "name": "ipython",
    "version": 3
   },
   "file_extension": ".py",
   "mimetype": "text/x-python",
   "name": "python",
   "nbconvert_exporter": "python",
   "pygments_lexer": "ipython3",
   "version": "3.8.3"
  },
  "orig_nbformat": 2,
  "kernelspec": {
   "name": "python383jvsc74a57bd02db524e06e9f5f4ffedc911c917cb75e12dbc923643829bf417064a77eb14d37",
   "display_name": "Python 3.8.3 64-bit"
  },
  "metadata": {
   "interpreter": {
    "hash": "2db524e06e9f5f4ffedc911c917cb75e12dbc923643829bf417064a77eb14d37"
   }
  }
 },
 "nbformat": 4,
 "nbformat_minor": 2,
 "cells": [
  {
   "cell_type": "code",
   "execution_count": 68,
   "metadata": {},
   "outputs": [
    {
     "output_type": "stream",
     "name": "stdout",
     "text": [
      "Favorite numbers: \nsam 56\nken 98\nsaul 6\nben 5\npaul 10\nBonus - Average Favorite Number: \n57\n"
     ]
    }
   ],
   "source": [
    "#variables\n",
    "fav_nums = {'sam':56, 'ken':98, 'saul':6}\n",
    "lookup = ('sam','ben','ken','paul','saul')\n",
    "theAVG = int(theSum/ len(fav_nums))\n",
    "theSum= 0\n",
    "\n",
    "\n",
    "#loops\n",
    "for key in lookup:\n",
    "    fav_nums.setdefault(key)\n",
    "\n",
    "for node in fav_nums:\n",
    "    if fav_nums.get(node) == None:\n",
    "        fav_nums.update({node: input(f\"What is {node}'s favorite number? \")})\n",
    "\n",
    "for numx, numy in fav_nums.items():\n",
    "    theSum += int(numy)\n",
    "\n",
    "\n",
    "\n",
    "#print outs\n",
    "print(\"Favorite numbers: \")\n",
    "for numx, numy in fav_nums.items():\n",
    "    print(numx, numy)\n",
    "\n",
    "print(\"Bonus - Average Favorite Number: \")\n",
    "print(theAVG)\n"
   ]
  },
  {
   "cell_type": "code",
   "execution_count": 36,
   "metadata": {},
   "outputs": [
    {
     "output_type": "stream",
     "name": "stdout",
     "text": [
      "Known ips: \n90.32.65.98\n67.45.23.43\n78.34.23.21\n89.34.23.67\n45.23.98.12\n89.23.21.9\n12.45.23.1\n90.43.65.1\n"
     ]
    }
   ],
   "source": [
    "# defining function \n",
    "def ips(a,b,c):\n",
    "    result1=a+b+c\n",
    "    return(result1)\n",
    "\n",
    "a = ['45.23.98.12', '89.23.21.9', '67.45.23.43', '1.1.1.1']\n",
    "b = ['1.1.1.1']\n",
    "c = ['78.34.23.21', '90.43.65.1']\n",
    "new_list = []\n",
    "result1= ips(a,b,c)\n",
    "\n",
    "known_ips = ['12.45.23.1', '89.34.23.67', '67.45.23.43', '90.32.65.98']\n",
    "\n",
    "final_list = set(known_ips) | set(result1)\n",
    "\n",
    "item = final_list\n",
    "\n",
    "for result in item:\n",
    "    if result != '1.1.1.1':\n",
    "       new_list.append(result)\n",
    "\n",
    "print(\"Known ips: \")\n",
    "\n",
    "for result in new_list: \n",
    "    print(result)\n"
   ]
  },
  {
   "cell_type": "code",
   "execution_count": 69,
   "metadata": {},
   "outputs": [
    {
     "output_type": "stream",
     "name": "stdout",
     "text": [
      "I am the force, the force is with me \n\nThis is the way \n\ndo or do not there is no try \n\nnever tell me the odds\n\nHey Listen!!\n\nIt's dangerous to go alone! Take this.\n\nAerith Will No Longer Talk, No Longer Laugh, Cry......\nOr Get Angry......What About Us......\nWhat Are WE Supposed To Do? What About My Pain? \nMy Fingers Are Tingling. My Mouth Is Dry. My Eyes Are Burning!\n\nEven the smallest person can change the course of the future.\n\nA day may come when the courage of men fails but it is not THIS day.\n\n Put aside the Ranger... become who you were born to be.\n\n Do you spend time with your family? \n Good. Because a man that doesn't spend time with his family, can never be a real man.\n\n Choose... choose the form of The Destructor.\n I couldn't help it... it just popped in there!\n ...it's the Stay Puft Marshmallow Man.\n"
     ]
    }
   ],
   "source": [
    "\n",
    "try:\n",
    "    with open (\"input.txt\") as f:\n",
    "        contents = f.read()\n",
    "except FileNotFoundError: \n",
    "    print(\"file not found.  Check your path and try again\")\n",
    "else:\n",
    "    print(contents)"
   ]
  }
 ]
}