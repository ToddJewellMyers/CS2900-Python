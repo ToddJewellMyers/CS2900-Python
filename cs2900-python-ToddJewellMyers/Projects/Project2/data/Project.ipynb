{
 "cells": [
  {
   "cell_type": "code",
   "execution_count": 22,
   "metadata": {},
   "outputs": [],
   "source": [
    "import pandas as pd\n",
    "import numpy as np\n"
   ]
  },
  {
   "cell_type": "code",
   "execution_count": 25,
   "metadata": {},
   "outputs": [
    {
     "name": "stdout",
     "output_type": "stream",
     "text": [
      "    First Name  Last Name       SID  Homework 1  Homework 1 - Max Points  \\\n",
      "0        Aaron     Lester  axl60952        68.0                     80.0   \n",
      "1         Adam     Cooper  amc28428        80.0                     80.0   \n",
      "2         Alec      Curry  axc64717        69.0                     80.0   \n",
      "3    Alexander  Rodriguez  akr14831        50.0                     80.0   \n",
      "4        Amber    Daniels  axd11293        54.0                     80.0   \n",
      "..         ...        ...       ...         ...                      ...   \n",
      "146          0          0         0         0.0                      0.0   \n",
      "147          0          0         0         0.0                      0.0   \n",
      "148          0          0         0         0.0                      0.0   \n",
      "149          0          0         0         0.0                      0.0   \n",
      "150          0          0         0         0.0                      0.0   \n",
      "\n",
      "     Homework 2  Homework 2 - Max Points  Homework 3  Homework 3 - Max Points  \\\n",
      "0          74.0                     80.0        77.0                     80.0   \n",
      "1          78.0                     80.0        78.0                     80.0   \n",
      "2          76.0                     80.0        66.0                     80.0   \n",
      "3          54.0                     80.0        74.0                     80.0   \n",
      "4          57.0                     80.0        77.0                     80.0   \n",
      "..          ...                      ...         ...                      ...   \n",
      "146         0.0                      0.0         0.0                      0.0   \n",
      "147         0.0                      0.0         0.0                      0.0   \n",
      "148         0.0                      0.0         0.0                      0.0   \n",
      "149         0.0                      0.0         0.0                      0.0   \n",
      "150         0.0                      0.0         0.0                      0.0   \n",
      "\n",
      "     Homework 4  ...  Exam 1 - Max Points  Exam 2  Exam 2 - Max Points  \\\n",
      "0          89.0  ...                100.0    63.0                100.0   \n",
      "1          87.0  ...                100.0    63.0                100.0   \n",
      "2          87.0  ...                100.0    78.0                100.0   \n",
      "3          75.0  ...                100.0    97.0                100.0   \n",
      "4          95.0  ...                100.0    95.0                100.0   \n",
      "..          ...  ...                  ...     ...                  ...   \n",
      "146         0.0  ...                  0.0     0.0                  0.0   \n",
      "147         0.0  ...                  0.0     0.0                  0.0   \n",
      "148         0.0  ...                  0.0     0.0                  0.0   \n",
      "149         0.0  ...                  0.0     0.0                  0.0   \n",
      "150         0.0  ...                  0.0     0.0                  0.0   \n",
      "\n",
      "     Exam 3  Exam 3 - Max Points              ID                     Name  \\\n",
      "0      68.0                100.0               0                        0   \n",
      "1      90.0                100.0               0                        0   \n",
      "2      83.0                100.0               0                        0   \n",
      "3      81.0                100.0               0                        0   \n",
      "4      88.0                100.0               0                        0   \n",
      "..      ...                  ...             ...                      ...   \n",
      "146     0.0                  0.0         9804556  Lee, Danielle Stephanie   \n",
      "147     0.0                  0.0         1783442          Edwards, Nicole   \n",
      "148     0.0                  0.0         6345758            Reyes, Bailey   \n",
      "149     0.0                  0.0         5566719             Walls, Joyce   \n",
      "150     0.0                  0.0  {\"mode\":\"full\"          isActive:false}   \n",
      "\n",
      "        NetID            Email Address  Section  \n",
      "0           0                        0      0.0  \n",
      "1           0                        0      0.0  \n",
      "2           0                        0      0.0  \n",
      "3           0                        0      0.0  \n",
      "4           0                        0      0.0  \n",
      "..        ...                      ...      ...  \n",
      "146  DSL24347    DANIELLE.LEE@UNIV.EDU      3.0  \n",
      "147  NXE44872  NICOLE.EDWARDS@UNIV.EDU      3.0  \n",
      "148  BXR62103    BAILEY.REYES@UNIV.EDU      2.0  \n",
      "149  JXW53347     JOYCE.WALLS@UNIV.EDU      1.0  \n",
      "150         0                        0      0.0  \n",
      "\n",
      "[302 rows x 34 columns]\n"
     ]
    }
   ],
   "source": [
    "data =  pd.read_csv('id-hw-exams.csv')\r\n",
    "data2 =  pd.read_csv('id-section.csv')\r\n",
    "\r\n",
    "data3 = pd.concat([data, data2])\r\n",
    "\r\n",
    "data3 = data3.drop(columns='Homework 1 - Submission Time')\r\n",
    "data3 = data3.drop(columns='Homework 2 - Submission Time')\r\n",
    "data3 = data3.drop(columns='Homework 3 - Submission Time')\r\n",
    "data3 = data3.drop(columns='Homework 4 - Submission Time')\r\n",
    "data3 = data3.drop(columns='Homework 5 - Submission Time')\r\n",
    "data3 = data3.drop(columns='Homework 6 - Submission Time')\r\n",
    "data3 = data3.drop(columns='Homework 7 - Submission Time')\r\n",
    "data3 = data3.drop(columns='Homework 8 - Submission Time')\r\n",
    "data3 = data3.drop(columns='Homework 9 - Submission Time')\r\n",
    "data3 = data3.drop(columns='Homework 10 - Submission Time')\r\n",
    "data3 = data3.drop(columns='Exam 1 - Submission Time')\r\n",
    "data3 = data3.drop(columns='Exam 2 - Submission Time')\r\n",
    "data3 = data3.drop(columns='Exam 3 - Submission Time')\r\n",
    "\r\n",
    "data3 = data3.fillna(0)\r\n",
    "\r\n",
    "print(data3)"
   ]
  },
  {
   "cell_type": "code",
   "execution_count": null,
   "metadata": {},
   "outputs": [],
   "source": []
  }
 ],
 "metadata": {
  "interpreter": {
   "hash": "2db524e06e9f5f4ffedc911c917cb75e12dbc923643829bf417064a77eb14d37"
  },
  "kernelspec": {
   "display_name": "Python 3.8.3 64-bit",
   "name": "python3"
  },
  "language_info": {
   "codemirror_mode": {
    "name": "ipython",
    "version": 3
   },
   "file_extension": ".py",
   "mimetype": "text/x-python",
   "name": "python",
   "nbconvert_exporter": "python",
   "pygments_lexer": "ipython3",
   "version": "3.8.3"
  },
  "orig_nbformat": 4
 },
 "nbformat": 4,
 "nbformat_minor": 2
}