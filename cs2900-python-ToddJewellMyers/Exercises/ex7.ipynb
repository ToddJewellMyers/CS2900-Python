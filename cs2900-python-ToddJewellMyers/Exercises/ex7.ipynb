{
 "metadata": {
  "language_info": {
   "codemirror_mode": {
    "name": "ipython",
    "version": 3
   },
   "file_extension": ".py",
   "mimetype": "text/x-python",
   "name": "python",
   "nbconvert_exporter": "python",
   "pygments_lexer": "ipython3",
   "version": "3.8.3"
  },
  "orig_nbformat": 4,
  "kernelspec": {
   "name": "python3",
   "display_name": "Python 3.8.3 64-bit"
  },
  "interpreter": {
   "hash": "2db524e06e9f5f4ffedc911c917cb75e12dbc923643829bf417064a77eb14d37"
  }
 },
 "nbformat": 4,
 "nbformat_minor": 2,
 "cells": [
  {
   "cell_type": "code",
   "execution_count": 340,
   "metadata": {},
   "outputs": [],
   "source": [
    "import numpy as np\n",
    "import pandas as pd\n",
    "from pandas import DataFrame"
   ]
  },
  {
   "cell_type": "code",
   "execution_count": 341,
   "metadata": {},
   "outputs": [
    {
     "output_type": "stream",
     "name": "stdout",
     "text": [
      "  subject_id first_name last_name\n0          1       Alex  Anderson\n1          2        Amy  Ackerman\n2          3      Allen       Ali\n3          4      Alice      Aoni\n4          5     Ayoung   Atiches\n0          4      Billy    Bonder\n1          5      Brian     Black\n2          6       Bran   Balwner\n3          7      Bryce     Brice\n4          8      Betty    Btisan\n  subject_id first_name last_name  test_id\n0          1       Alex  Anderson       51\n1          2        Amy  Ackerman       15\n2          3      Allen       Ali       15\n3          4      Alice      Aoni       61\n4          4      Billy    Bonder       61\n5          5     Ayoung   Atiches       16\n6          5      Brian     Black       16\n7          7      Bryce     Brice       14\n8          8      Betty    Btisan       15\n"
     ]
    }
   ],
   "source": [
    "# part 1\n",
    "\n",
    "set1 = {\n",
    "        'subject_id': ['1', '2', '3', '4', '5'],\n",
    "        'first_name': ['Alex', 'Amy', 'Allen', 'Alice', 'Ayoung'], \n",
    "        'last_name': ['Anderson', 'Ackerman', 'Ali', 'Aoni', 'Atiches']}\n",
    "\n",
    "set2 = {\n",
    "        'subject_id': ['4', '5', '6', '7', '8'],\n",
    "        'first_name': ['Billy', 'Brian', 'Bran', 'Bryce', 'Betty'], \n",
    "        'last_name': ['Bonder', 'Black', 'Balwner', 'Brice', 'Btisan']}\n",
    "\n",
    "scores3 = {\n",
    "        'subject_id': ['1', '2', '3', '4', '5', '7', '8', '9', '10', '11'],\n",
    "        'test_id': [51, 15, 15, 61, 16, 14, 15, 1, 61, 16]}\n",
    "\n",
    "df1 = DataFrame.from_dict(set1)\n",
    "df2 = DataFrame.from_dict(set2)\n",
    "df3 = DataFrame.from_dict(scores3)\n",
    "data = pd.concat([df1, df2])\n",
    "print(data)\n",
    "data2 = data.merge(df3)\n",
    "print(data2)"
   ]
  },
  {
   "cell_type": "code",
   "execution_count": 342,
   "metadata": {},
   "outputs": [
    {
     "output_type": "stream",
     "name": "stdout",
     "text": [
      "     state/region     ages  year   population    state abbreviation\n0              AL  under18  2012    1117489.0  Alabama           AL\n1              AL    total  2012    4817528.0  Alabama           AL\n2              AL  under18  2010    1130966.0  Alabama           AL\n3              AL    total  2010    4785570.0  Alabama           AL\n4              AL  under18  2011    1125763.0  Alabama           AL\n...           ...      ...   ...          ...      ...          ...\n2539          USA    total  2010  309326295.0      NaN          NaN\n2540          USA  under18  2011   73902222.0      NaN          NaN\n2541          USA    total  2011  311582564.0      NaN          NaN\n2542          USA  under18  2012   73708179.0      NaN          NaN\n2543          USA    total  2012  313873685.0      NaN          NaN\n\n[2544 rows x 6 columns]\n     state/region     ages  year   population    state\n0              AL  under18  2012    1117489.0  Alabama\n1              AL    total  2012    4817528.0  Alabama\n2              AL  under18  2010    1130966.0  Alabama\n3              AL    total  2010    4785570.0  Alabama\n4              AL  under18  2011    1125763.0  Alabama\n...           ...      ...   ...          ...      ...\n2539          USA    total  2010  309326295.0      NaN\n2540          USA  under18  2011   73902222.0      NaN\n2541          USA    total  2011  311582564.0      NaN\n2542          USA  under18  2012   73708179.0      NaN\n2543          USA    total  2012  313873685.0      NaN\n\n[2544 rows x 5 columns]\n"
     ]
    }
   ],
   "source": [
    "# part 2 \n",
    "\n",
    "dataf = pd.read_csv(\"https://raw.githubusercontent.com/jakevdp/data-USstates/master/state-abbrevs.csv\")\n",
    "dataf2 = pd.read_csv(\"https://raw.githubusercontent.com/jakevdp/data-USstates/master/state-population.csv\")\n",
    "\n",
    "new = pd.merge(dataf2, dataf,  how='outer', left_on=['state/region'], right_on = ['abbreviation'])\n",
    "print(new)\n",
    "final = new_df.drop(['abbreviation'], axis = 1)\n",
    "print(final)"
   ]
  },
  {
   "cell_type": "code",
   "execution_count": 343,
   "metadata": {},
   "outputs": [
    {
     "output_type": "stream",
     "name": "stdout",
     "text": [
      "Index(['population', 'state'], dtype='object')\n\n\n       population state\n2448          NaN   NaN\n2449          NaN   NaN\n2450          NaN   NaN\n2451          NaN   NaN\n2452          NaN   NaN\n...           ...   ...\n2539  309326295.0   NaN\n2540   73902222.0   NaN\n2541  311582564.0   NaN\n2542   73708179.0   NaN\n2543  313873685.0   NaN\n\n[96 rows x 2 columns]\n\n\npopulation    20\nstate         96\ndtype: int64\n"
     ]
    }
   ],
   "source": [
    "# part 3\n",
    "\n",
    "series = final.columns[final.isnull().any()]\n",
    "print(series)\n",
    "print(\"\\n\")\n",
    "#print(final_df[series]) \n",
    "\n",
    "null_data = final[final.isnull().any(axis = 1)]\n",
    "y = pd.DataFrame(null_data)\n",
    "\n",
    "print(y[series])\n",
    "print(\"\\n\")\n",
    "\n",
    "print(y[series].isnull().sum())"
   ]
  },
  {
   "cell_type": "code",
   "execution_count": 344,
   "metadata": {},
   "outputs": [
    {
     "output_type": "stream",
     "name": "stdout",
     "text": [
      "     state/region     ages  year  population        state\n2448           PR  under18  1990         NaN  Puerto Rico\n2449           PR    total  1990         NaN  Puerto Rico\n\n\n     state/region     ages  year   population          state\n2496          USA  under18  1990   64218512.0  United States\n2497          USA    total  1990  249622814.0  United States\n\n\n     state/region     ages  year  population        state\n2468           PR    total  2000   3810605.0  Puerto Rico\n2469           PR  under18  2000   1089063.0  Puerto Rico\n"
     ]
    }
   ],
   "source": [
    "# part 4\n",
    "frame = pd.DataFrame({\n",
    "    'abbreviation': ['PR', 'USA'],\n",
    "        'state': ['Puerto Rico', 'United States']\n",
    "        })\n",
    "\n",
    "finals = pd.concat([dataf, frame])\n",
    "new2 = pd.merge(dataf2, finals,  how='left', left_on=['state/region'], right_on = ['abbreviation'])\n",
    "final2 = new2.drop(['abbreviation'], axis = 1)\n",
    "select = final2.loc[final2['state/region'] == 'PR']\n",
    "print(select.head(2))\n",
    "print('\\n')\n",
    "\n",
    "select1 = final2.loc[final2['state/region'] == 'USA']\n",
    "print(select1.head(2))\n",
    "print('\\n')\n",
    "\n",
    "clean = final2.dropna(subset=['population'])\n",
    "select2 = clean.loc[clean['state/region'] == 'PR']\n",
    "print(select2.head(2))"
   ]
  },
  {
   "cell_type": "code",
   "execution_count": 346,
   "metadata": {},
   "outputs": [
    {
     "output_type": "stream",
     "name": "stdout",
     "text": [
      "     state/region     ages  year  population        state  area (sq. mi)\n0              AL  under18  2012   1117489.0      Alabama          52423\n1              AL    total  2012   4817528.0      Alabama          52423\n2              AL  under18  2010   1130966.0      Alabama          52423\n3              AL    total  2010   4785570.0      Alabama          52423\n4              AL  under18  2011   1125763.0      Alabama          52423\n...           ...      ...   ...         ...          ...            ...\n2471           PR  under18  2010    896945.0  Puerto Rico           3515\n2472           PR  under18  2011    869327.0  Puerto Rico           3515\n2473           PR    total  2011   3686580.0  Puerto Rico           3515\n2474           PR  under18  2012    841740.0  Puerto Rico           3515\n2475           PR    total  2012   3651545.0  Puerto Rico           3515\n\n[2476 rows x 6 columns]\n\n\n0         21.316769\n1         91.897221\n2         21.573851\n3         91.287603\n4         21.474601\n           ...     \n2471     255.176387\n2472     247.319203\n2473    1048.813656\n2474     239.470839\n2475    1038.846373\nLength: 2476, dtype: float64\n\n\n"
     ]
    },
    {
     "output_type": "execute_result",
     "data": {
      "text/plain": [
       "     state/region     ages  year  population        state  area (sq. mi)  \\\n",
       "0              AL  under18  2012   1117489.0      Alabama          52423   \n",
       "1              AL    total  2012   4817528.0      Alabama          52423   \n",
       "2              AL  under18  2010   1130966.0      Alabama          52423   \n",
       "3              AL    total  2010   4785570.0      Alabama          52423   \n",
       "4              AL  under18  2011   1125763.0      Alabama          52423   \n",
       "...           ...      ...   ...         ...          ...            ...   \n",
       "2471           PR  under18  2010    896945.0  Puerto Rico           3515   \n",
       "2472           PR  under18  2011    869327.0  Puerto Rico           3515   \n",
       "2473           PR    total  2011   3686580.0  Puerto Rico           3515   \n",
       "2474           PR  under18  2012    841740.0  Puerto Rico           3515   \n",
       "2475           PR    total  2012   3651545.0  Puerto Rico           3515   \n",
       "\n",
       "          density  \n",
       "0       21.316769  \n",
       "1       91.897221  \n",
       "2       21.573851  \n",
       "3       91.287603  \n",
       "4       21.474601  \n",
       "...           ...  \n",
       "2471   255.176387  \n",
       "2472   247.319203  \n",
       "2473  1048.813656  \n",
       "2474   239.470839  \n",
       "2475  1038.846373  \n",
       "\n",
       "[2476 rows x 7 columns]"
      ],
      "text/html": "<div>\n<style scoped>\n    .dataframe tbody tr th:only-of-type {\n        vertical-align: middle;\n    }\n\n    .dataframe tbody tr th {\n        vertical-align: top;\n    }\n\n    .dataframe thead th {\n        text-align: right;\n    }\n</style>\n<table border=\"1\" class=\"dataframe\">\n  <thead>\n    <tr style=\"text-align: right;\">\n      <th></th>\n      <th>state/region</th>\n      <th>ages</th>\n      <th>year</th>\n      <th>population</th>\n      <th>state</th>\n      <th>area (sq. mi)</th>\n      <th>density</th>\n    </tr>\n  </thead>\n  <tbody>\n    <tr>\n      <th>0</th>\n      <td>AL</td>\n      <td>under18</td>\n      <td>2012</td>\n      <td>1117489.0</td>\n      <td>Alabama</td>\n      <td>52423</td>\n      <td>21.316769</td>\n    </tr>\n    <tr>\n      <th>1</th>\n      <td>AL</td>\n      <td>total</td>\n      <td>2012</td>\n      <td>4817528.0</td>\n      <td>Alabama</td>\n      <td>52423</td>\n      <td>91.897221</td>\n    </tr>\n    <tr>\n      <th>2</th>\n      <td>AL</td>\n      <td>under18</td>\n      <td>2010</td>\n      <td>1130966.0</td>\n      <td>Alabama</td>\n      <td>52423</td>\n      <td>21.573851</td>\n    </tr>\n    <tr>\n      <th>3</th>\n      <td>AL</td>\n      <td>total</td>\n      <td>2010</td>\n      <td>4785570.0</td>\n      <td>Alabama</td>\n      <td>52423</td>\n      <td>91.287603</td>\n    </tr>\n    <tr>\n      <th>4</th>\n      <td>AL</td>\n      <td>under18</td>\n      <td>2011</td>\n      <td>1125763.0</td>\n      <td>Alabama</td>\n      <td>52423</td>\n      <td>21.474601</td>\n    </tr>\n    <tr>\n      <th>...</th>\n      <td>...</td>\n      <td>...</td>\n      <td>...</td>\n      <td>...</td>\n      <td>...</td>\n      <td>...</td>\n      <td>...</td>\n    </tr>\n    <tr>\n      <th>2471</th>\n      <td>PR</td>\n      <td>under18</td>\n      <td>2010</td>\n      <td>896945.0</td>\n      <td>Puerto Rico</td>\n      <td>3515</td>\n      <td>255.176387</td>\n    </tr>\n    <tr>\n      <th>2472</th>\n      <td>PR</td>\n      <td>under18</td>\n      <td>2011</td>\n      <td>869327.0</td>\n      <td>Puerto Rico</td>\n      <td>3515</td>\n      <td>247.319203</td>\n    </tr>\n    <tr>\n      <th>2473</th>\n      <td>PR</td>\n      <td>total</td>\n      <td>2011</td>\n      <td>3686580.0</td>\n      <td>Puerto Rico</td>\n      <td>3515</td>\n      <td>1048.813656</td>\n    </tr>\n    <tr>\n      <th>2474</th>\n      <td>PR</td>\n      <td>under18</td>\n      <td>2012</td>\n      <td>841740.0</td>\n      <td>Puerto Rico</td>\n      <td>3515</td>\n      <td>239.470839</td>\n    </tr>\n    <tr>\n      <th>2475</th>\n      <td>PR</td>\n      <td>total</td>\n      <td>2012</td>\n      <td>3651545.0</td>\n      <td>Puerto Rico</td>\n      <td>3515</td>\n      <td>1038.846373</td>\n    </tr>\n  </tbody>\n</table>\n<p>2476 rows × 7 columns</p>\n</div>"
     },
     "metadata": {},
     "execution_count": 346
    }
   ],
   "source": [
    "# part 5\n",
    "\n",
    "data1 = pd.read_csv(\"https://raw.githubusercontent.com/jakevdp/data-USstates/master/state-areas.csv\")\n",
    "\n",
    "jabba = pd.DataFrame.from_dict(data1)\n",
    "slave1 = clean.merge(jabba)\n",
    "print(slave1)\n",
    "print('\\n')\n",
    "\n",
    "density = slave1[\"population\"] / slave1[\"area (sq. mi)\"]\n",
    "print(density)\n",
    "print('\\n')\n",
    "\n",
    "skywalker = slave1.merge(density.rename('density'), left_index=True, right_index=True)\n",
    "\n",
    "slave1.merge(density.rename('density'), left_index=True, right_index=True)"
   ]
  },
  {
   "cell_type": "code",
   "execution_count": 378,
   "metadata": {},
   "outputs": [
    {
     "output_type": "stream",
     "name": "stdout",
     "text": [
      "                    state  year\n391  District of Columbia  2013\n\n\n     state/region     ages  year  population        state  area (sq. mi)  \\\n2              AL  under18  2010   1130966.0      Alabama          52423   \n3              AL    total  2010   4785570.0      Alabama          52423   \n90             AK  under18  2010    187902.0       Alaska         656425   \n91             AK    total  2010    713868.0       Alaska         656425   \n100            AZ  under18  2010   1628563.0      Arizona         114006   \n...           ...      ...   ...         ...          ...            ...   \n2395           WI  under18  2010   1336094.0    Wisconsin          65503   \n2404           WY  under18  2010    135351.0      Wyoming          97818   \n2405           WY    total  2010    564222.0      Wyoming          97818   \n2470           PR    total  2010   3721208.0  Puerto Rico           3515   \n2471           PR  under18  2010    896945.0  Puerto Rico           3515   \n\n          density  \n2       21.573851  \n3       91.287603  \n90       0.286251  \n91       1.087509  \n100     14.284889  \n...           ...  \n2395    20.397447  \n2404     1.383702  \n2405     5.768079  \n2470  1058.665149  \n2471   255.176387  \n\n[104 rows x 7 columns]\n8898.89705882353\n                    state  year\n389  District of Columbia  2010\n"
     ]
    }
   ],
   "source": [
    "# part 6\n",
    "\n",
    "max_p = skywalker['density'].max()\n",
    "p = skywalker.loc[skywalker['density'] == max_p, ['state', 'year']]\n",
    "print(p)\n",
    "print('\\n')\n",
    "\n",
    "pick = skywalker[skywalker['year'] == 2010]\n",
    "pick2 = pd.DataFrame.from_dict(pick)\n",
    "print(pick2)\n",
    "master_p = pick2['density'].max()\n",
    "print(master_p)\n",
    "master = pick2.loc[pick2['density'] == master_p, ['state', 'year']]\n",
    "print(master)\n",
    "print('\\n')\n"
   ]
  },
  {
   "cell_type": "code",
   "execution_count": null,
   "metadata": {},
   "outputs": [],
   "source": []
  }
 ]
}