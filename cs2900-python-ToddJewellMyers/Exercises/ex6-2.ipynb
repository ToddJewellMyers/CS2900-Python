{
 "metadata": {
  "language_info": {
   "codemirror_mode": {
    "name": "ipython",
    "version": 3
   },
   "file_extension": ".py",
   "mimetype": "text/x-python",
   "name": "python",
   "nbconvert_exporter": "python",
   "pygments_lexer": "ipython3",
   "version": "3.8.3"
  },
  "orig_nbformat": 4,
  "kernelspec": {
   "name": "python3",
   "display_name": "Python 3.8.3 64-bit"
  },
  "interpreter": {
   "hash": "2db524e06e9f5f4ffedc911c917cb75e12dbc923643829bf417064a77eb14d37"
  }
 },
 "nbformat": 4,
 "nbformat_minor": 2,
 "cells": [
  {
   "cell_type": "code",
   "execution_count": 3,
   "metadata": {},
   "outputs": [],
   "source": [
    "import csv \n",
    "import numpy as np\n",
    "import pandas as pd"
   ]
  },
  {
   "cell_type": "code",
   "execution_count": 4,
   "metadata": {},
   "outputs": [
    {
     "output_type": "stream",
     "name": "stdout",
     "text": [
      "589.0\n"
     ]
    },
    {
     "output_type": "execute_result",
     "data": {
      "text/plain": [
       "             color major  num_choice  num_select Oh no, this is new\n",
       "0           Purple   CEG        42.0       42.00                NaN\n",
       "1           Purple    CS         4.0        3.00                NaN\n",
       "2             Blue    CS        13.0        3.00                NaN\n",
       "3              Red   EGR         NaN        3.14                NaN\n",
       "4              Red   EGR         NaN        3.14                NaN\n",
       "5             Blue    CS         NaN        3.14                NaN\n",
       "6              Red   ITC        35.0       42.00                NaN\n",
       "7             Blue    CS        66.0       42.00                NaN\n",
       "8             Blue    CS         NaN       42.00                NaN\n",
       "9              Red   ITC         NaN       42.00                NaN\n",
       "10            Blue    CS        56.0        5.00                NaN\n",
       "11          Purple   NaN         NaN         NaN                NaN\n",
       "12            Blue   CEG         NaN       42.00                NaN\n",
       "13          Yellow   ITC         NaN        3.14                NaN\n",
       "14  Purple, Yellow    CS         NaN        5.00                NaN\n",
       "15             Red   EGR        64.0       42.00                NaN\n",
       "16             Red   ITC        73.0       42.00                NaN\n",
       "17            Blue   ITC         NaN        3.14                NaN\n",
       "18          Purple    CS         NaN        5.00                NaN\n",
       "19            Blue    CS         7.0        5.00                NaN\n",
       "20             NaN   CEG        72.0        5.00                NaN\n",
       "21             NaN   CEG         NaN       42.00                NaN\n",
       "22          Yellow    CS        12.0        3.00              Do it\n",
       "23     Purple, Red   CEG        67.0        5.00        Don't do it\n",
       "24             Red   ITC        78.0        3.14        Don't do it"
      ],
      "text/html": "<div>\n<style scoped>\n    .dataframe tbody tr th:only-of-type {\n        vertical-align: middle;\n    }\n\n    .dataframe tbody tr th {\n        vertical-align: top;\n    }\n\n    .dataframe thead th {\n        text-align: right;\n    }\n</style>\n<table border=\"1\" class=\"dataframe\">\n  <thead>\n    <tr style=\"text-align: right;\">\n      <th></th>\n      <th>color</th>\n      <th>major</th>\n      <th>num_choice</th>\n      <th>num_select</th>\n      <th>Oh no, this is new</th>\n    </tr>\n  </thead>\n  <tbody>\n    <tr>\n      <th>0</th>\n      <td>Purple</td>\n      <td>CEG</td>\n      <td>42.0</td>\n      <td>42.00</td>\n      <td>NaN</td>\n    </tr>\n    <tr>\n      <th>1</th>\n      <td>Purple</td>\n      <td>CS</td>\n      <td>4.0</td>\n      <td>3.00</td>\n      <td>NaN</td>\n    </tr>\n    <tr>\n      <th>2</th>\n      <td>Blue</td>\n      <td>CS</td>\n      <td>13.0</td>\n      <td>3.00</td>\n      <td>NaN</td>\n    </tr>\n    <tr>\n      <th>3</th>\n      <td>Red</td>\n      <td>EGR</td>\n      <td>NaN</td>\n      <td>3.14</td>\n      <td>NaN</td>\n    </tr>\n    <tr>\n      <th>4</th>\n      <td>Red</td>\n      <td>EGR</td>\n      <td>NaN</td>\n      <td>3.14</td>\n      <td>NaN</td>\n    </tr>\n    <tr>\n      <th>5</th>\n      <td>Blue</td>\n      <td>CS</td>\n      <td>NaN</td>\n      <td>3.14</td>\n      <td>NaN</td>\n    </tr>\n    <tr>\n      <th>6</th>\n      <td>Red</td>\n      <td>ITC</td>\n      <td>35.0</td>\n      <td>42.00</td>\n      <td>NaN</td>\n    </tr>\n    <tr>\n      <th>7</th>\n      <td>Blue</td>\n      <td>CS</td>\n      <td>66.0</td>\n      <td>42.00</td>\n      <td>NaN</td>\n    </tr>\n    <tr>\n      <th>8</th>\n      <td>Blue</td>\n      <td>CS</td>\n      <td>NaN</td>\n      <td>42.00</td>\n      <td>NaN</td>\n    </tr>\n    <tr>\n      <th>9</th>\n      <td>Red</td>\n      <td>ITC</td>\n      <td>NaN</td>\n      <td>42.00</td>\n      <td>NaN</td>\n    </tr>\n    <tr>\n      <th>10</th>\n      <td>Blue</td>\n      <td>CS</td>\n      <td>56.0</td>\n      <td>5.00</td>\n      <td>NaN</td>\n    </tr>\n    <tr>\n      <th>11</th>\n      <td>Purple</td>\n      <td>NaN</td>\n      <td>NaN</td>\n      <td>NaN</td>\n      <td>NaN</td>\n    </tr>\n    <tr>\n      <th>12</th>\n      <td>Blue</td>\n      <td>CEG</td>\n      <td>NaN</td>\n      <td>42.00</td>\n      <td>NaN</td>\n    </tr>\n    <tr>\n      <th>13</th>\n      <td>Yellow</td>\n      <td>ITC</td>\n      <td>NaN</td>\n      <td>3.14</td>\n      <td>NaN</td>\n    </tr>\n    <tr>\n      <th>14</th>\n      <td>Purple, Yellow</td>\n      <td>CS</td>\n      <td>NaN</td>\n      <td>5.00</td>\n      <td>NaN</td>\n    </tr>\n    <tr>\n      <th>15</th>\n      <td>Red</td>\n      <td>EGR</td>\n      <td>64.0</td>\n      <td>42.00</td>\n      <td>NaN</td>\n    </tr>\n    <tr>\n      <th>16</th>\n      <td>Red</td>\n      <td>ITC</td>\n      <td>73.0</td>\n      <td>42.00</td>\n      <td>NaN</td>\n    </tr>\n    <tr>\n      <th>17</th>\n      <td>Blue</td>\n      <td>ITC</td>\n      <td>NaN</td>\n      <td>3.14</td>\n      <td>NaN</td>\n    </tr>\n    <tr>\n      <th>18</th>\n      <td>Purple</td>\n      <td>CS</td>\n      <td>NaN</td>\n      <td>5.00</td>\n      <td>NaN</td>\n    </tr>\n    <tr>\n      <th>19</th>\n      <td>Blue</td>\n      <td>CS</td>\n      <td>7.0</td>\n      <td>5.00</td>\n      <td>NaN</td>\n    </tr>\n    <tr>\n      <th>20</th>\n      <td>NaN</td>\n      <td>CEG</td>\n      <td>72.0</td>\n      <td>5.00</td>\n      <td>NaN</td>\n    </tr>\n    <tr>\n      <th>21</th>\n      <td>NaN</td>\n      <td>CEG</td>\n      <td>NaN</td>\n      <td>42.00</td>\n      <td>NaN</td>\n    </tr>\n    <tr>\n      <th>22</th>\n      <td>Yellow</td>\n      <td>CS</td>\n      <td>12.0</td>\n      <td>3.00</td>\n      <td>Do it</td>\n    </tr>\n    <tr>\n      <th>23</th>\n      <td>Purple, Red</td>\n      <td>CEG</td>\n      <td>67.0</td>\n      <td>5.00</td>\n      <td>Don't do it</td>\n    </tr>\n    <tr>\n      <th>24</th>\n      <td>Red</td>\n      <td>ITC</td>\n      <td>78.0</td>\n      <td>3.14</td>\n      <td>Don't do it</td>\n    </tr>\n  </tbody>\n</table>\n</div>"
     },
     "metadata": {},
     "execution_count": 4
    }
   ],
   "source": [
    "df = pd.read_csv(\"https://raw.githubusercontent.com/pattonsgirl/SU2021-CS2900/main/Exercises/silly-survey-v2.csv\")\n",
    "\n",
    "df =df.drop(columns = 'Timestamp')\n",
    "\n",
    "df = df.rename(columns={\n",
    "    'Favorite color of provided': 'color', \n",
    "    'Major': 'major', \n",
    "    'Favorite number (your choice)': 'num_choice',\n",
    "    'Favorite number (from provided)': 'num_select'})\n",
    "\n",
    "df['major'] = df['major'].replace('Other', 'EGR')\n",
    "\n",
    "df['num_choice'] = pd.to_numeric(df['num_choice'], errors='coerce')\n",
    "\n",
    "print(df['num_choice'].sum())\n",
    "\n",
    "cleansed_df = df[df['num_choice'].notnull()]\n",
    "\n",
    "cleansed_df\n",
    "df"
   ]
  },
  {
   "cell_type": "code",
   "execution_count": null,
   "metadata": {},
   "outputs": [],
   "source": []
  }
 ]
}