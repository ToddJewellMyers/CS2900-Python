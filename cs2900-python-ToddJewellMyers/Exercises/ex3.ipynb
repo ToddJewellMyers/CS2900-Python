{
 "metadata": {
  "language_info": {
   "codemirror_mode": {
    "name": "ipython",
    "version": 3
   },
   "file_extension": ".py",
   "mimetype": "text/x-python",
   "name": "python",
   "nbconvert_exporter": "python",
   "pygments_lexer": "ipython3",
   "version": "3.8.5"
  },
  "orig_nbformat": 2,
  "kernelspec": {
   "name": "python385jvsc74a57bd0b3ba2566441a7c06988d0923437866b63cedc61552a5af99d1f4fb67d367b25f",
   "display_name": "Python 3.8.5 64-bit ('base': conda)"
  },
  "metadata": {
   "interpreter": {
    "hash": "2db524e06e9f5f4ffedc911c917cb75e12dbc923643829bf417064a77eb14d37"
   }
  }
 },
 "nbformat": 4,
 "nbformat_minor": 2,
 "cells": [
  {
   "cell_type": "code",
   "execution_count": 16,
   "metadata": {},
   "outputs": [
    {
     "output_type": "stream",
     "name": "stdout",
     "text": [
      "File written successfully\n"
     ]
    }
   ],
   "source": [
    "import random, json, yaml\n",
    "\n",
    "#Generate 40 random numbers between 10 and 30\n",
    "randomlist = random.sample(range(5, 50), 40)\n",
    "# open file\n",
    "with open('basic-data.txt', 'w+') as f:\n",
    "      \n",
    "    # write elements of list\n",
    "    for items in randomlist:\n",
    "        f.write('%s\\n' %items)\n",
    "      \n",
    "    print(\"File written successfully\")\n",
    "# close the file\n",
    "f.close()\n",
    "\n",
    "with open('basic-data.json', 'w') as outfile:\n",
    "    json.dump(randomlist, outfile)\n",
    "\n",
    "outfile.close()\n",
    "\n",
    "with open(\"basic-data.yaml\", \"w\") as out:\n",
    "    yaml.dump(randomlist, out)\n",
    "\n",
    "out.close()"
   ]
  },
  {
   "cell_type": "code",
   "execution_count": 5,
   "metadata": {},
   "outputs": [
    {
     "output_type": "stream",
     "name": "stdout",
     "text": [
      "35\n28\n5\n"
     ]
    }
   ],
   "source": [
    "with open(\"basic-data.txt\") as f:\n",
    "    numbers = []\n",
    "    for line in f:\n",
    "        numbers.append(int(line))\n",
    "    numbers.sort()\n",
    "\n",
    "count = len(numbers)\n",
    "max_num = max(numbers)\n",
    "min_num = min(numbers)\n",
    "sum_of_nums = sum(numbers)\n",
    "\n",
    "mean = numbers[sum(numbers)//40]\n",
    "print(mean)\n",
    "median = numbers[len(numbers)//2]\n",
    "print(median)\n",
    "mode = max(numbers, key=lambda n: numbers.count(n))\n",
    "print(mode)"
   ]
  },
  {
   "cell_type": "code",
   "execution_count": 6,
   "metadata": {},
   "outputs": [
    {
     "output_type": "stream",
     "name": "stdout",
     "text": [
      "A chance of showers and thunderstorms between 8am and 2pm, then a chance of showers and thunderstorms. Mostly sunny, with a high near 88. Chance of precipitation is 40%.\n"
     ]
    }
   ],
   "source": [
    "#printed version of part3 \n",
    "import json\n",
    "\n",
    "with open ('forecast.json') as f:\n",
    "    file = json.load(f)\n",
    "\n",
    "print(file['properties']['periods'][11]['detailedForecast'])"
   ]
  },
  {
   "cell_type": "code",
   "execution_count": null,
   "metadata": {},
   "outputs": [],
   "source": []
  }
 ]
}