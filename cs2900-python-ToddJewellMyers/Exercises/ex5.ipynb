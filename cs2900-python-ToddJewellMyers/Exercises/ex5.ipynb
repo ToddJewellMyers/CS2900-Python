{
 "metadata": {
  "language_info": {
   "codemirror_mode": {
    "name": "ipython",
    "version": 3
   },
   "file_extension": ".py",
   "mimetype": "text/x-python",
   "name": "python",
   "nbconvert_exporter": "python",
   "pygments_lexer": "ipython3",
   "version": "3.8.3"
  },
  "orig_nbformat": 4,
  "kernelspec": {
   "name": "python3",
   "display_name": "Python 3.8.3 64-bit"
  },
  "interpreter": {
   "hash": "2db524e06e9f5f4ffedc911c917cb75e12dbc923643829bf417064a77eb14d37"
  }
 },
 "nbformat": 4,
 "nbformat_minor": 2,
 "cells": [
  {
   "cell_type": "code",
   "execution_count": 25,
   "metadata": {},
   "outputs": [],
   "source": [
    "import numpy as np\n",
    "\n",
    "number = [1, 4, 7, 25, 10, 13]\n",
    "pokemon = ['bulbasaur', 'charmander', 'squirtle', 'pikachu', 'caterpie', 'weedle']\n",
    "evolution = ['venusaur', 'charizard', 'blastoise', 'raichu', 'butterfree', 'beedrill']\n",
    "p_type = ['grass', 'fire', 'water', 'electric', 'bug', 'bug']\n",
    "hp = [25, 55, 32, 34, 21, 23]\n",
    "\n",
    "x = np.zeros(6, dtype=int)\n",
    "\n",
    "data = np.zeros(6, dtype={\n",
    "    'names':('number', 'pokemon', 'evolution', 'p_type', 'hp'),\n",
    "    'formats':('f8', 'U10', 'U10', 'U10', 'f8')\n",
    "    }\n",
    "    )\n",
    "\n",
    "data['number'] = number\n",
    "data['pokemon'] = pokemon\n",
    "data['evolution'] = evolution\n",
    "data['p_type'] = p_type\n",
    "data['hp'] = hp\n",
    "\n",
    "\n",
    "#print(data[(data['number'] < 30)])"
   ]
  },
  {
   "cell_type": "code",
   "execution_count": 83,
   "metadata": {},
   "outputs": [
    {
     "output_type": "stream",
     "name": "stdout",
     "text": [
      "[(10., 'caterpie', 'butterfree', 'bug', 21.)\n (13., 'weedle', 'beedrill', 'bug', 23.)]\n\n\n[( 1., 'bulbasaur', 'venusaur', 'grass', 25.)\n (10., 'caterpie', 'butterfree', 'bug', 21.)\n (13., 'weedle', 'beedrill', 'bug', 23.)]\n\n\n[('bulbasaur', 25.) ('caterpie', 21.) ('weedle', 23.)]\n"
     ]
    }
   ],
   "source": [
    "\n",
    "# prints only the bug pokemon by limiting the range on hp to below 25 \n",
    "print(data[(data['hp'] < 24 )])\n",
    "print(\"\\n\")\n",
    "# prints pokemon with health less than 30 \n",
    "print(data[(data['hp'] < 30)])\n",
    "print(\"\\n\")\n",
    "# prints only the pokemon name and hp for pokemon within this DataFrame with hp less than 30 \n",
    "pokeLimit = (data[data['hp'] < 30])\n",
    "print(pokeLimit[['pokemon', 'hp']])\n"
   ]
  },
  {
   "cell_type": "code",
   "execution_count": 92,
   "metadata": {},
   "outputs": [
    {
     "output_type": "stream",
     "name": "stdout",
     "text": [
      "   order_id  quantity                              item_name  \\\n0         1         1           Chips and Fresh Tomato Salsa   \n1         1         1                                   Izze   \n2         1         1                       Nantucket Nectar   \n3         1         1  Chips and Tomatillo-Green Chili Salsa   \n4         2         2                           Chicken Bowl   \n5         3         1                           Chicken Bowl   \n6         3         1                          Side of Chips   \n7         4         1                          Steak Burrito   \n8         4         1                       Steak Soft Tacos   \n9         5         1                          Steak Burrito   \n\n                                  choice_description item_price  \n0                                                NaN     $2.39   \n1                                       [Clementine]     $3.39   \n2                                            [Apple]     $3.39   \n3                                                NaN     $2.39   \n4  [Tomatillo-Red Chili Salsa (Hot), [Black Beans...    $16.98   \n5  [Fresh Tomato Salsa (Mild), [Rice, Cheese, Sou...    $10.98   \n6                                                NaN     $1.69   \n7  [Tomatillo Red Chili Salsa, [Fajita Vegetables...    $11.75   \n8  [Tomatillo Green Chili Salsa, [Pinto Beans, Ch...     $9.25   \n9  [Fresh Tomato Salsa, [Rice, Black Beans, Pinto...     $9.25   \n\n\n      order_id  quantity            item_name  \\\n4612      1831         1        Carnitas Bowl   \n4613      1831         1                Chips   \n4614      1831         1        Bottled Water   \n4615      1832         1   Chicken Soft Tacos   \n4616      1832         1  Chips and Guacamole   \n4617      1833         1        Steak Burrito   \n4618      1833         1        Steak Burrito   \n4619      1834         1   Chicken Salad Bowl   \n4620      1834         1   Chicken Salad Bowl   \n4621      1834         1   Chicken Salad Bowl   \n\n                                     choice_description item_price  \n4612  [Fresh Tomato Salsa, [Fajita Vegetables, Rice,...     $9.25   \n4613                                                NaN     $2.15   \n4614                                                NaN     $1.50   \n4615   [Fresh Tomato Salsa, [Rice, Cheese, Sour Cream]]     $8.75   \n4616                                                NaN     $4.45   \n4617  [Fresh Tomato Salsa, [Rice, Black Beans, Sour ...    $11.75   \n4618  [Fresh Tomato Salsa, [Rice, Sour Cream, Cheese...    $11.75   \n4619  [Fresh Tomato Salsa, [Fajita Vegetables, Pinto...    $11.25   \n4620  [Fresh Tomato Salsa, [Fajita Vegetables, Lettu...     $8.75   \n4621  [Fresh Tomato Salsa, [Fajita Vegetables, Pinto...     $8.75   \n"
     ]
    }
   ],
   "source": [
    "import pandas as pd\n",
    "\n",
    "df = pd.read_csv(\"https://raw.githubusercontent.com/justmarkham/DAT8/master/data/chipotle.tsv\", sep='\\t')\n",
    "\n",
    "print(df.head(10))\n",
    "print(\"\\n\")\n",
    "print(df.tail(10))"
   ]
  },
  {
   "cell_type": "code",
   "execution_count": 98,
   "metadata": {},
   "outputs": [
    {
     "output_type": "stream",
     "name": "stdout",
     "text": [
      "     order_id  quantity              item_name  \\\n252       110         1           Chicken Bowl   \n253       110         1            Veggie Bowl   \n254       110         1          Barbacoa Bowl   \n255       110         1  Barbacoa Crispy Tacos   \n\n                                    choice_description item_price  \n252  [Tomatillo Red Chili Salsa, [Rice, Cheese, Let...     $8.75   \n253  [Roasted Chili Corn Salsa, [Rice, Pinto Beans,...     $8.75   \n254  [Tomatillo Red Chili Salsa, [Rice, Cheese, Let...     $9.25   \n255  [Roasted Chili Corn Salsa, [Rice, Cheese, Lett...     $9.25   \n"
     ]
    }
   ],
   "source": [
    "print(df[(df['order_id'] == 110)])"
   ]
  },
  {
   "cell_type": "code",
   "execution_count": 109,
   "metadata": {},
   "outputs": [
    {
     "output_type": "stream",
     "name": "stdout",
     "text": [
      "                                item_name  \\\n35                     Chicken Soft Tacos   \n36                     Chicken Soft Tacos   \n37                    Chips and Guacamole   \n38  Chips and Tomatillo Green Chili Salsa   \n\n                               choice_description  \n35               [Roasted Chili Corn Salsa, Rice]  \n36  [Roasted Chili Corn Salsa, [Cheese, Lettuce]]  \n37                                            NaN  \n38                                            NaN  \n"
     ]
    }
   ],
   "source": [
    "#print(df[(df['order_id'] == 18)])\n",
    "\n",
    "limit = (df[df['order_id'] == 18])\n",
    "print(limit[['item_name', 'choice_description']])"
   ]
  },
  {
   "cell_type": "code",
   "execution_count": 112,
   "metadata": {},
   "outputs": [
    {
     "output_type": "stream",
     "name": "stdout",
     "text": [
      "order_id                int64\n",
      "quantity                int64\n",
      "item_name              object\n",
      "choice_description     object\n",
      "item_price            float64\n",
      "dtype: object\n",
      "<ipython-input-112-f08fe58a57cc>:3: FutureWarning: The default value of regex will change from True to False in a future version. In addition, single character regular expressions will*not* be treated as literal strings when regex=True.\n",
      "  df['item_price'] = df['item_price'].str.replace('$', '')\n"
     ]
    }
   ],
   "source": [
    "import pandas as pd\n",
    "df['item_price'] = df['item_price'].str.replace(',', '')\n",
    "df['item_price'] = df['item_price'].str.replace('$', '')\n",
    "df['item_price'] = df['item_price'].astype(float)\n",
    "\n",
    "print(df.dtypes)"
   ]
  },
  {
   "cell_type": "code",
   "execution_count": 135,
   "metadata": {},
   "outputs": [
    {
     "output_type": "stream",
     "name": "stdout",
     "text": [
      "      order_id  quantity                     item_name choice_description  \\\n3598      1443        15  Chips and Fresh Tomato Salsa                NaN   \n\n      item_price  \n3598       44.25  \n"
     ]
    }
   ],
   "source": [
    "maxPrice = df[df['item_price'] == df['item_price'].max()]\n",
    "print(maxPrice)"
   ]
  },
  {
   "cell_type": "code",
   "execution_count": 137,
   "metadata": {},
   "outputs": [
    {
     "output_type": "stream",
     "name": "stdout",
     "text": [
      "11\n"
     ]
    }
   ],
   "source": [
    "limit = (df[df['order_id'] == 577])\n",
    "finalLimit = limit['quantity']\n",
    "Sum = np.sum(finalLimit)\n",
    "print(Sum)"
   ]
  },
  {
   "cell_type": "code",
   "execution_count": 136,
   "metadata": {},
   "outputs": [
    {
     "output_type": "stream",
     "name": "stdout",
     "text": [
      "71.15\n"
     ]
    }
   ],
   "source": [
    "limit = (df[df['order_id'] == 577])\n",
    "finalLimit = limit['item_price']\n",
    "Sum = np.sum(finalLimit)\n",
    "\n",
    "print(Sum)"
   ]
  },
  {
   "cell_type": "code",
   "execution_count": 177,
   "metadata": {},
   "outputs": [
    {
     "output_type": "stream",
     "name": "stdout",
     "text": [
      "Total number of Steak Bowls\n221\n"
     ]
    }
   ],
   "source": [
    "order = df[df['item_name'] == 'Steak Bowl']\n",
    "\n",
    "limit = order['quantity']\n",
    "Sum = np.sum(limit)\n",
    "\n",
    "print(\"Total number of Steak Bowls\")\n",
    "print(Sum)"
   ]
  },
  {
   "cell_type": "code",
   "execution_count": 175,
   "metadata": {},
   "outputs": [
    {
     "output_type": "stream",
     "name": "stdout",
     "text": [
      "4972\n"
     ]
    },
    {
     "output_type": "execute_result",
     "data": {
      "text/plain": [
       "      order_id  quantity                              item_name\n",
       "0            1         1           Chips and Fresh Tomato Salsa\n",
       "1            1         1                                   Izze\n",
       "2            1         1                       Nantucket Nectar\n",
       "3            1         1  Chips and Tomatillo-Green Chili Salsa\n",
       "4            2         2                           Chicken Bowl\n",
       "...        ...       ...                                    ...\n",
       "4617      1833         1                          Steak Burrito\n",
       "4618      1833         1                          Steak Burrito\n",
       "4619      1834         1                     Chicken Salad Bowl\n",
       "4620      1834         1                     Chicken Salad Bowl\n",
       "4621      1834         1                     Chicken Salad Bowl\n",
       "\n",
       "[4622 rows x 3 columns]"
      ],
      "text/html": "<div>\n<style scoped>\n    .dataframe tbody tr th:only-of-type {\n        vertical-align: middle;\n    }\n\n    .dataframe tbody tr th {\n        vertical-align: top;\n    }\n\n    .dataframe thead th {\n        text-align: right;\n    }\n</style>\n<table border=\"1\" class=\"dataframe\">\n  <thead>\n    <tr style=\"text-align: right;\">\n      <th></th>\n      <th>order_id</th>\n      <th>quantity</th>\n      <th>item_name</th>\n    </tr>\n  </thead>\n  <tbody>\n    <tr>\n      <th>0</th>\n      <td>1</td>\n      <td>1</td>\n      <td>Chips and Fresh Tomato Salsa</td>\n    </tr>\n    <tr>\n      <th>1</th>\n      <td>1</td>\n      <td>1</td>\n      <td>Izze</td>\n    </tr>\n    <tr>\n      <th>2</th>\n      <td>1</td>\n      <td>1</td>\n      <td>Nantucket Nectar</td>\n    </tr>\n    <tr>\n      <th>3</th>\n      <td>1</td>\n      <td>1</td>\n      <td>Chips and Tomatillo-Green Chili Salsa</td>\n    </tr>\n    <tr>\n      <th>4</th>\n      <td>2</td>\n      <td>2</td>\n      <td>Chicken Bowl</td>\n    </tr>\n    <tr>\n      <th>...</th>\n      <td>...</td>\n      <td>...</td>\n      <td>...</td>\n    </tr>\n    <tr>\n      <th>4617</th>\n      <td>1833</td>\n      <td>1</td>\n      <td>Steak Burrito</td>\n    </tr>\n    <tr>\n      <th>4618</th>\n      <td>1833</td>\n      <td>1</td>\n      <td>Steak Burrito</td>\n    </tr>\n    <tr>\n      <th>4619</th>\n      <td>1834</td>\n      <td>1</td>\n      <td>Chicken Salad Bowl</td>\n    </tr>\n    <tr>\n      <th>4620</th>\n      <td>1834</td>\n      <td>1</td>\n      <td>Chicken Salad Bowl</td>\n    </tr>\n    <tr>\n      <th>4621</th>\n      <td>1834</td>\n      <td>1</td>\n      <td>Chicken Salad Bowl</td>\n    </tr>\n  </tbody>\n</table>\n<p>4622 rows × 3 columns</p>\n</div>"
     },
     "metadata": {},
     "execution_count": 175
    }
   ],
   "source": [
    "order = df['quantity']\n",
    "\n",
    "limit = order\n",
    "Sum = np.sum(limit)\n",
    "\n",
    "print(Sum)\n",
    "\n",
    "\n",
    "df[['order_id', 'quantity', 'item_name']]\n"
   ]
  },
  {
   "cell_type": "code",
   "execution_count": null,
   "metadata": {},
   "outputs": [],
   "source": []
  }
 ]
}